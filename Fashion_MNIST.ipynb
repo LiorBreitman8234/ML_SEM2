{
 "cells": [
  {
   "cell_type": "markdown",
   "metadata": {},
   "source": [
    "# Fashion-Mnist\n",
    "\n",
    "This is the second notebook for my project, in which I will try to get the best result I can to classify the Fahion-Mnist Data set\n",
    "\n",
    "[conclusion](#conclusion)"
   ]
  },
  {
   "cell_type": "code",
   "execution_count": 14,
   "metadata": {},
   "outputs": [],
   "source": [
    "import pandas as pd\n",
    "import numpy as np\n",
    "import matplotlib.pyplot as plt \n",
    "import seaborn as sns\n",
    "%matplotlib inline\n",
    "from sklearn.metrics import accuracy_score\n",
    "from sklearn.decomposition import PCA\n",
    "from sklearn.naive_bayes import GaussianNB      \n",
    "from sklearn.linear_model import LogisticRegression\n",
    "from sklearn.ensemble import RandomForestClassifier\n",
    "from sklearn.ensemble import BaggingClassifier\n",
    "from sklearn.ensemble import AdaBoostClassifier\n",
    "from sklearn.ensemble import GradientBoostingClassifier\n",
    "import xgboost\n",
    "from sklearn.model_selection import GridSearchCV\n",
    "from sklearn.neighbors import KNeighborsClassifier\n",
    "import time\n",
    "from sklearn.tree import DecisionTreeClassifier\n",
    "from sklearn.ensemble import VotingClassifier\n"
   ]
  },
  {
   "cell_type": "code",
   "execution_count": 2,
   "metadata": {},
   "outputs": [],
   "source": [
    "import warnings\n",
    "warnings.filterwarnings('ignore')"
   ]
  },
  {
   "cell_type": "markdown",
   "metadata": {},
   "source": [
    "First lets import the data and see how it looks"
   ]
  },
  {
   "cell_type": "code",
   "execution_count": 3,
   "metadata": {},
   "outputs": [],
   "source": [
    "df = pd.read_csv(\"D:\\ML_SEM2\\\\fashion-mnist_train.csv\")"
   ]
  },
  {
   "cell_type": "code",
   "execution_count": 4,
   "metadata": {},
   "outputs": [
    {
     "data": {
      "text/html": [
       "<div>\n",
       "<style scoped>\n",
       "    .dataframe tbody tr th:only-of-type {\n",
       "        vertical-align: middle;\n",
       "    }\n",
       "\n",
       "    .dataframe tbody tr th {\n",
       "        vertical-align: top;\n",
       "    }\n",
       "\n",
       "    .dataframe thead th {\n",
       "        text-align: right;\n",
       "    }\n",
       "</style>\n",
       "<table border=\"1\" class=\"dataframe\">\n",
       "  <thead>\n",
       "    <tr style=\"text-align: right;\">\n",
       "      <th></th>\n",
       "      <th>label</th>\n",
       "      <th>pixel1</th>\n",
       "      <th>pixel2</th>\n",
       "      <th>pixel3</th>\n",
       "      <th>pixel4</th>\n",
       "      <th>pixel5</th>\n",
       "      <th>pixel6</th>\n",
       "      <th>pixel7</th>\n",
       "      <th>pixel8</th>\n",
       "      <th>pixel9</th>\n",
       "      <th>...</th>\n",
       "      <th>pixel775</th>\n",
       "      <th>pixel776</th>\n",
       "      <th>pixel777</th>\n",
       "      <th>pixel778</th>\n",
       "      <th>pixel779</th>\n",
       "      <th>pixel780</th>\n",
       "      <th>pixel781</th>\n",
       "      <th>pixel782</th>\n",
       "      <th>pixel783</th>\n",
       "      <th>pixel784</th>\n",
       "    </tr>\n",
       "  </thead>\n",
       "  <tbody>\n",
       "    <tr>\n",
       "      <th>0</th>\n",
       "      <td>2</td>\n",
       "      <td>0</td>\n",
       "      <td>0</td>\n",
       "      <td>0</td>\n",
       "      <td>0</td>\n",
       "      <td>0</td>\n",
       "      <td>0</td>\n",
       "      <td>0</td>\n",
       "      <td>0</td>\n",
       "      <td>0</td>\n",
       "      <td>...</td>\n",
       "      <td>0</td>\n",
       "      <td>0</td>\n",
       "      <td>0</td>\n",
       "      <td>0</td>\n",
       "      <td>0</td>\n",
       "      <td>0</td>\n",
       "      <td>0</td>\n",
       "      <td>0</td>\n",
       "      <td>0</td>\n",
       "      <td>0</td>\n",
       "    </tr>\n",
       "    <tr>\n",
       "      <th>1</th>\n",
       "      <td>9</td>\n",
       "      <td>0</td>\n",
       "      <td>0</td>\n",
       "      <td>0</td>\n",
       "      <td>0</td>\n",
       "      <td>0</td>\n",
       "      <td>0</td>\n",
       "      <td>0</td>\n",
       "      <td>0</td>\n",
       "      <td>0</td>\n",
       "      <td>...</td>\n",
       "      <td>0</td>\n",
       "      <td>0</td>\n",
       "      <td>0</td>\n",
       "      <td>0</td>\n",
       "      <td>0</td>\n",
       "      <td>0</td>\n",
       "      <td>0</td>\n",
       "      <td>0</td>\n",
       "      <td>0</td>\n",
       "      <td>0</td>\n",
       "    </tr>\n",
       "    <tr>\n",
       "      <th>2</th>\n",
       "      <td>6</td>\n",
       "      <td>0</td>\n",
       "      <td>0</td>\n",
       "      <td>0</td>\n",
       "      <td>0</td>\n",
       "      <td>0</td>\n",
       "      <td>0</td>\n",
       "      <td>0</td>\n",
       "      <td>5</td>\n",
       "      <td>0</td>\n",
       "      <td>...</td>\n",
       "      <td>0</td>\n",
       "      <td>0</td>\n",
       "      <td>0</td>\n",
       "      <td>30</td>\n",
       "      <td>43</td>\n",
       "      <td>0</td>\n",
       "      <td>0</td>\n",
       "      <td>0</td>\n",
       "      <td>0</td>\n",
       "      <td>0</td>\n",
       "    </tr>\n",
       "    <tr>\n",
       "      <th>3</th>\n",
       "      <td>0</td>\n",
       "      <td>0</td>\n",
       "      <td>0</td>\n",
       "      <td>0</td>\n",
       "      <td>1</td>\n",
       "      <td>2</td>\n",
       "      <td>0</td>\n",
       "      <td>0</td>\n",
       "      <td>0</td>\n",
       "      <td>0</td>\n",
       "      <td>...</td>\n",
       "      <td>3</td>\n",
       "      <td>0</td>\n",
       "      <td>0</td>\n",
       "      <td>0</td>\n",
       "      <td>0</td>\n",
       "      <td>1</td>\n",
       "      <td>0</td>\n",
       "      <td>0</td>\n",
       "      <td>0</td>\n",
       "      <td>0</td>\n",
       "    </tr>\n",
       "    <tr>\n",
       "      <th>4</th>\n",
       "      <td>3</td>\n",
       "      <td>0</td>\n",
       "      <td>0</td>\n",
       "      <td>0</td>\n",
       "      <td>0</td>\n",
       "      <td>0</td>\n",
       "      <td>0</td>\n",
       "      <td>0</td>\n",
       "      <td>0</td>\n",
       "      <td>0</td>\n",
       "      <td>...</td>\n",
       "      <td>0</td>\n",
       "      <td>0</td>\n",
       "      <td>0</td>\n",
       "      <td>0</td>\n",
       "      <td>0</td>\n",
       "      <td>0</td>\n",
       "      <td>0</td>\n",
       "      <td>0</td>\n",
       "      <td>0</td>\n",
       "      <td>0</td>\n",
       "    </tr>\n",
       "  </tbody>\n",
       "</table>\n",
       "<p>5 rows × 785 columns</p>\n",
       "</div>"
      ],
      "text/plain": [
       "   label  pixel1  pixel2  pixel3  pixel4  pixel5  pixel6  pixel7  pixel8  \\\n",
       "0      2       0       0       0       0       0       0       0       0   \n",
       "1      9       0       0       0       0       0       0       0       0   \n",
       "2      6       0       0       0       0       0       0       0       5   \n",
       "3      0       0       0       0       1       2       0       0       0   \n",
       "4      3       0       0       0       0       0       0       0       0   \n",
       "\n",
       "   pixel9  ...  pixel775  pixel776  pixel777  pixel778  pixel779  pixel780  \\\n",
       "0       0  ...         0         0         0         0         0         0   \n",
       "1       0  ...         0         0         0         0         0         0   \n",
       "2       0  ...         0         0         0        30        43         0   \n",
       "3       0  ...         3         0         0         0         0         1   \n",
       "4       0  ...         0         0         0         0         0         0   \n",
       "\n",
       "   pixel781  pixel782  pixel783  pixel784  \n",
       "0         0         0         0         0  \n",
       "1         0         0         0         0  \n",
       "2         0         0         0         0  \n",
       "3         0         0         0         0  \n",
       "4         0         0         0         0  \n",
       "\n",
       "[5 rows x 785 columns]"
      ]
     },
     "execution_count": 4,
     "metadata": {},
     "output_type": "execute_result"
    }
   ],
   "source": [
    "df.head()"
   ]
  },
  {
   "cell_type": "markdown",
   "metadata": {},
   "source": [
    "After getting the dataset lets split it to the labels and the data itself"
   ]
  },
  {
   "cell_type": "code",
   "execution_count": 5,
   "metadata": {},
   "outputs": [
    {
     "data": {
      "text/plain": [
       "array([2, 9, 6, ..., 8, 8, 7], dtype=int64)"
      ]
     },
     "execution_count": 5,
     "metadata": {},
     "output_type": "execute_result"
    }
   ],
   "source": [
    "labels = df.label.values\n",
    "labels"
   ]
  },
  {
   "cell_type": "code",
   "execution_count": 6,
   "metadata": {},
   "outputs": [
    {
     "data": {
      "text/plain": [
       "array([[0, 0, 0, ..., 0, 0, 0],\n",
       "       [0, 0, 0, ..., 0, 0, 0],\n",
       "       [0, 0, 0, ..., 0, 0, 0],\n",
       "       ...,\n",
       "       [0, 0, 0, ..., 0, 0, 0],\n",
       "       [0, 0, 0, ..., 0, 0, 0],\n",
       "       [0, 0, 0, ..., 0, 0, 0]], dtype=int64)"
      ]
     },
     "execution_count": 6,
     "metadata": {},
     "output_type": "execute_result"
    }
   ],
   "source": [
    "data = df.drop(['label'],axis = 1).values\n",
    "data"
   ]
  },
  {
   "cell_type": "markdown",
   "metadata": {},
   "source": [
    "Reshape data to correct dimensions to see how an image looks like"
   ]
  },
  {
   "cell_type": "code",
   "execution_count": 7,
   "metadata": {},
   "outputs": [],
   "source": [
    "data_to_show = data.reshape(-1,28,28,1)"
   ]
  },
  {
   "cell_type": "code",
   "execution_count": 8,
   "metadata": {},
   "outputs": [
    {
     "data": {
      "image/png": "[encoded data removed]",
      "text/plain": [
       "<Figure size 432x288 with 1 Axes>"
      ]
     },
     "metadata": {
      "needs_background": "light"
     },
     "output_type": "display_data"
    }
   ],
   "source": [
    "plt.imshow(data_to_show[1]);"
   ]
  },
  {
   "cell_type": "markdown",
   "metadata": {},
   "source": [
    "lets see how it looks in black and white"
   ]
  },
  {
   "cell_type": "code",
   "execution_count": 9,
   "metadata": {},
   "outputs": [
    {
     "data": {
      "image/png": "[encoded data removed]",
      "text/plain": [
       "<Figure size 432x288 with 1 Axes>"
      ]
     },
     "metadata": {
      "needs_background": "light"
     },
     "output_type": "display_data"
    }
   ],
   "source": [
    "plt.imshow(data_to_show[1],cmap = plt.get_cmap(\"gray\"));"
   ]
  },
  {
   "cell_type": "markdown",
   "metadata": {},
   "source": [
    "Now lets split the Data and try to get some results from it "
   ]
  },
  {
   "cell_type": "code",
   "execution_count": 10,
   "metadata": {},
   "outputs": [],
   "source": [
    "from sklearn.model_selection import train_test_split\n",
    "from sklearn import metrics\n",
    "data_train, data_test, target_train, target_test = train_test_split(data, labels,test_size = 0.05, random_state=10)"
   ]
  },
  {
   "cell_type": "markdown",
   "metadata": {},
   "source": [
    "Lets train some week learners before reducing the dimensions.\n",
    "\n",
    "Also I want to see how much time (in seconds) it takes for each classifier or maybe we can get a bit of a worse result but in a much faster time"
   ]
  },
  {
   "cell_type": "markdown",
   "metadata": {},
   "source": [
    "Lets make tables to be able to see what impact did running the pca had on the accuracy and training time"
   ]
  },
  {
   "cell_type": "code",
   "execution_count": 11,
   "metadata": {},
   "outputs": [],
   "source": [
    "model_names = []\n",
    "before_pca_scores = []\n",
    "after_pca_scores = []\n",
    "time_before_pca =[]\n",
    "time_after_pca = []"
   ]
  },
  {
   "cell_type": "markdown",
   "metadata": {},
   "source": [
    "# Week learners\n",
    "\n",
    "first lets train week learners and test our accuracy before PCA using voting, baggin and boosting"
   ]
  },
  {
   "cell_type": "code",
   "execution_count": 14,
   "metadata": {},
   "outputs": [],
   "source": [
    "knn = KNeighborsClassifier()\n",
    "n_range = np.arange(100,1001,100)\n",
    "scores = []\n",
    "for n in n_range:\n",
    "    knn.n_neighbors = n\n",
    "    knn.fit(data_train,target_train)\n",
    "    pred = knn.predict(data_test)\n",
    "    scores.append(metrics.accuracy_score(target_test,pred))"
   ]
  },
  {
   "cell_type": "code",
   "execution_count": 15,
   "metadata": {},
   "outputs": [
    {
     "data": {
      "image/png": "[encoded data removed]",
      "text/plain": [
       "<Figure size 432x288 with 1 Axes>"
      ]
     },
     "metadata": {
      "needs_background": "light"
     },
     "output_type": "display_data"
    }
   ],
   "source": [
    "sns.pointplot(x = n_range, y = scores);"
   ]
  },
  {
   "cell_type": "markdown",
   "metadata": {},
   "source": [
    "As we can see the best knn is with 100 neighbours"
   ]
  },
  {
   "cell_type": "code",
   "execution_count": 15,
   "metadata": {},
   "outputs": [],
   "source": [
    "knn_before = KNeighborsClassifier(n_neighbors = 100)\n",
    "gnb_clf = GaussianNB()\n",
    "LoR_clf = LogisticRegression(random_state=0)\n",
    "RF_clf = RandomForestClassifier(n_estimators=150, random_state=1)\n",
    "dtclf = DecisionTreeClassifier(random_state=0, max_depth = 3)"
   ]
  },
  {
   "cell_type": "markdown",
   "metadata": {},
   "source": [
    "# Voting\n",
    "\n",
    "we will use our week learners to try and make voting classifiers, both hard and soft, and see what is the best accuracy as well as training times"
   ]
  },
  {
   "cell_type": "code",
   "execution_count": 27,
   "metadata": {},
   "outputs": [],
   "source": [
    "Soft_voter = VotingClassifier(estimators = [('knn_before',knn_before),('lr',LoR_clf),('decision_tree',dtclf),('gaussian_bayes',gnb_clf),('random_forsts',RF_clf)],n_jobs = -1,voting='soft')\n",
    "Hard_voter = VotingClassifier(estimators = [('knn_before',knn_before),('lr',LoR_clf),('decision_tree',dtclf),('gaussian_bayes',gnb_clf),('random_forsts',RF_clf)],n_jobs = -1,voting='hard')"
   ]
  },
  {
   "cell_type": "code",
   "execution_count": 29,
   "metadata": {},
   "outputs": [
    {
     "name": "stdout",
     "output_type": "stream",
     "text": [
      "KNeighborsClassifier score is: 0.821 , time to train: 31.80 seconds\n",
      "DecisionTreeClassifier score is: 0.499 , time to train: 7.07 seconds\n",
      "GaussianNB score is: 0.584 , time to train: 0.90 seconds\n",
      "LogisticRegression score is: 0.847 , time to train: 23.21 seconds\n",
      "RandomForestClassifier score is: 0.885 , time to train: 138.54 seconds\n",
      "VotingClassifier score is: 0.838 , time to train: 150.11 seconds\n",
      "VotingClassifier score is: 0.850 , time to train: 149.32 seconds\n"
     ]
    }
   ],
   "source": [
    "for clf in (knn_before,dtclf,gnb_clf,LoR_clf,RF_clf,Soft_voter,Hard_voter):\n",
    "    start_time = time.time()\n",
    "    clf.fit(data_train,target_train)\n",
    "    time_to_train = time.time()-start_time\n",
    "    pred = clf.predict(data_test)\n",
    "    score = accuracy_score(target_test,pred)\n",
    "    name = clf.__class__.__name__\n",
    "    model_names.append(name)\n",
    "    before_pca_scores.append(score)\n",
    "    time_before_pca.append(time_to_train)\n",
    "    print(name + \" score is: %.3f \" %(score) + \", time to train: %.2f seconds\" %(time_to_train))"
   ]
  },
  {
   "cell_type": "markdown",
   "metadata": {},
   "source": [
    "# Bagging\n",
    "\n",
    "next lets take the logistic regression classifier and try to use bagging with him to get a better result"
   ]
  },
  {
   "cell_type": "code",
   "execution_count": 17,
   "metadata": {},
   "outputs": [],
   "source": [
    "n_range = np.arange(10,51,10)\n",
    "bag_scores = []\n",
    "for n in n_range:\n",
    "    Bagg_clf = BaggingClassifier(base_estimator=LoR_clf,n_estimators = n)\n",
    "    Bagg_clf.fit(data_train,target_train)\n",
    "    pred= Bagg_clf.predict(data_test)\n",
    "    bag_scores.append(accuracy_score(target_test,pred))"
   ]
  },
  {
   "cell_type": "code",
   "execution_count": 18,
   "metadata": {},
   "outputs": [
    {
     "data": {
      "image/png": "[encoded data removed]",
      "text/plain": [
       "<Figure size 432x288 with 1 Axes>"
      ]
     },
     "metadata": {
      "needs_background": "light"
     },
     "output_type": "display_data"
    }
   ],
   "source": [
    "sns.pointplot(x = n_range, y = bag_scores);"
   ]
  },
  {
   "cell_type": "markdown",
   "metadata": {},
   "source": [
    "as we can see, we got the best result with 10 logistic regression classifiers, so we will use this amount"
   ]
  },
  {
   "cell_type": "code",
   "execution_count": 19,
   "metadata": {},
   "outputs": [
    {
     "name": "stdout",
     "output_type": "stream",
     "text": [
      "BaggingClassifier score is: 0.851 , time to train: 167.58 seconds\n"
     ]
    }
   ],
   "source": [
    "start_time = time.time()\n",
    "Bagg_clf_before = BaggingClassifier(base_estimator=LoR_clf,n_estimators = 10)\n",
    "Bagg_clf_before.fit(data_train,target_train)\n",
    "time_to_train = time.time() - start_time\n",
    "pred = Bagg_clf_before.predict(data_test)\n",
    "score = accuracy_score(target_test,pred)\n",
    "name = Bagg_clf_before.__class__.__name__\n",
    "model_names.append(name)\n",
    "before_pca_scores.append(score)\n",
    "time_before_pca.append(time_to_train)\n",
    "print(name + \" score is: %.3f \" %(score) + \", time to train: %.2f seconds\" %(time_to_train))"
   ]
  },
  {
   "cell_type": "markdown",
   "metadata": {},
   "source": [
    "With just 10 classifiers, we got 85.1% accuracy!"
   ]
  },
  {
   "cell_type": "markdown",
   "metadata": {},
   "source": [
    "# Boosting\n",
    "\n",
    "next lets try to use boositing to correct our previous mistakes"
   ]
  },
  {
   "cell_type": "code",
   "execution_count": 40,
   "metadata": {},
   "outputs": [
    {
     "name": "stdout",
     "output_type": "stream",
     "text": [
      "AdaBoostClassifier score is: 0.533 , time to train: 422.34 seconds\n"
     ]
    }
   ],
   "source": [
    "#after playing with the variabels a bit, that is the best adaBoostClassifier I got\n",
    "start_time = time.time()\n",
    "adaBoost_beofre = AdaBoostClassifier(n_estimators = 150, learning_rate = 0.5)\n",
    "adaBoost_before.fit(data_train,target_train)\n",
    "time_to_train = time.time()- start_time\n",
    "pred = adaBoost_before.predict(data_test)\n",
    "score = metrics.accuracy_score(target_test,pred)\n",
    "name = adaBoost_before.__class__.__name__\n",
    "model_names.append(name)\n",
    "before_pca_scores.append(score)\n",
    "time_before_pca.append(time_to_train)\n",
    "print(name + \" score is: %.3f \" %(score) + \", time to train: %.2f seconds\" %(time_to_train))"
   ]
  },
  {
   "cell_type": "markdown",
   "metadata": {},
   "source": [
    "Next lets check another version of boosting, gradient boosting"
   ]
  },
  {
   "cell_type": "code",
   "execution_count": 41,
   "metadata": {},
   "outputs": [
    {
     "name": "stdout",
     "output_type": "stream",
     "text": [
      "GradientBoostingClassifier score is: 0.670 , time to train: 6407.03 seconds\n"
     ]
    }
   ],
   "source": [
    "start_time = time.time()\n",
    "gboost_before = GradientBoostingClassifier(n_estimators = 100, learning_rate = 1, max_depth = 3)\n",
    "gboost_before.fit(data_train,target_train)\n",
    "time_to_train = time.time()- start_time\n",
    "pred = gboost_before.predict(data_test)\n",
    "score = metrics.accuracy_score(target_test,pred)\n",
    "name = gboost_before.__class__.__name__\n",
    "print(name + \" score is: %.3f \" %(score) + \", time to train: %.2f seconds\" %(time_to_train))"
   ]
  },
  {
   "cell_type": "markdown",
   "metadata": {},
   "source": [
    "As we can see, we didnt get the best accuracy, as well as it took very long to train, lets try another boosting algorithem. XGBoost"
   ]
  },
  {
   "cell_type": "code",
   "execution_count": 141,
   "metadata": {},
   "outputs": [
    {
     "name": "stdout",
     "output_type": "stream",
     "text": [
      "0.9053333333333333\n",
      "time to calculate 342.85\n"
     ]
    }
   ],
   "source": [
    "xgb_before = xgboost.XGBClassifier(n_estimators = 100,eval_metric = \"merror\",learning_rate = 0.5)\n",
    "start_time = time.time()\n",
    "xgb_before.fit(data_train, target_train)\n",
    "pred = xgb_before.predict(data_test)\n",
    "print(metrics.accuracy_score(target_test,pred))\n",
    "print(\"time to calculate %.2f\" %(time.time()-start_time))"
   ]
  },
  {
   "cell_type": "markdown",
   "metadata": {},
   "source": [
    "With xgboost, we got a way better result, and a better training time too!\n",
    "\n",
    "After running the classifiers on the full data, lets wee if we can reduce our dimensions to get a faster result\n",
    "\n",
    "I will use the PCA and plot the explaind variance ratio to see how much dimensions are needed to explain a precentege of the variance"
   ]
  },
  {
   "cell_type": "code",
   "execution_count": 44,
   "metadata": {},
   "outputs": [],
   "source": [
    "from sklearn.decomposition import PCA\n",
    "pca = PCA()\n",
    "pca.fit(data_train)\n",
    "cumsum = np.cumsum(pca.explained_variance_ratio_)"
   ]
  },
  {
   "cell_type": "code",
   "execution_count": 45,
   "metadata": {},
   "outputs": [
    {
     "data": {
      "image/png": "[encoded data removed]",
      "text/plain": [
       "<Figure size 720x360 with 1 Axes>"
      ]
     },
     "metadata": {
      "needs_background": "light"
     },
     "output_type": "display_data"
    }
   ],
   "source": [
    "plt.figure(figsize = [10,5])\n",
    "plt.plot(cumsum)\n",
    "plt.ylabel(\"% of variance explained\")\n",
    "plt.xlabel(\"number of dimensions needed\")\n",
    "plt.title(\"% of variance explained according to number of dimensions\");\n",
    "plt.axhline(y=0.95, linewidth=0.5, color='r');\n",
    "plt.axvline(x=187, linewidth=0.5, color='r');"
   ]
  },
  {
   "cell_type": "markdown",
   "metadata": {},
   "source": [
    "lets aim for 95% of the variance"
   ]
  },
  {
   "cell_type": "code",
   "execution_count": 46,
   "metadata": {},
   "outputs": [],
   "source": [
    "pca = PCA(n_components = 0.95)\n",
    "data_reduced = pca.fit_transform(data_train)\n",
    "test_reduced = pca.transform(data_test)\n",
    "data_recoverd = pca.inverse_transform(data_reduced)\n",
    "test_recoverd = pca.inverse_transform(test_reduced)"
   ]
  },
  {
   "cell_type": "code",
   "execution_count": 47,
   "metadata": {},
   "outputs": [
    {
     "data": {
      "text/plain": [
       "(57000, 187)"
      ]
     },
     "execution_count": 47,
     "metadata": {},
     "output_type": "execute_result"
    }
   ],
   "source": [
    "data_reduced.shape"
   ]
  },
  {
   "cell_type": "markdown",
   "metadata": {},
   "source": [
    "As we can see we only need 187 dimensions to explain 95% of the variance, lets see how an image looks after we redcued the data and recoverd it"
   ]
  },
  {
   "cell_type": "code",
   "execution_count": 57,
   "metadata": {},
   "outputs": [],
   "source": [
    "data_recoverd_to_show = data_recoverd.reshape(-1,28,28,1)"
   ]
  },
  {
   "cell_type": "code",
   "execution_count": 58,
   "metadata": {},
   "outputs": [
    {
     "data": {
      "image/png": "[encoded data removed]",
      "text/plain": [
       "<Figure size 432x288 with 1 Axes>"
      ]
     },
     "metadata": {
      "needs_background": "light"
     },
     "output_type": "display_data"
    }
   ],
   "source": [
    "plt.imshow(data_recoverd_to_show[420]);"
   ]
  },
  {
   "cell_type": "code",
   "execution_count": 59,
   "metadata": {},
   "outputs": [
    {
     "data": {
      "text/plain": [
       "<matplotlib.image.AxesImage at 0x2427329d100>"
      ]
     },
     "execution_count": 59,
     "metadata": {},
     "output_type": "execute_result"
    },
    {
     "data": {
      "image/png": "[encoded data removed]",
      "text/plain": [
       "<Figure size 432x288 with 1 Axes>"
      ]
     },
     "metadata": {
      "needs_background": "light"
     },
     "output_type": "display_data"
    }
   ],
   "source": [
    "plt.imshow(data_recoverd_to_show[69],cmap = plt.get_cmap(\"gray\"))"
   ]
  },
  {
   "cell_type": "markdown",
   "metadata": {},
   "source": [
    "Now lets try training week learners on the data after PCA"
   ]
  },
  {
   "cell_type": "code",
   "execution_count": 61,
   "metadata": {},
   "outputs": [],
   "source": [
    "knn = KNeighborsClassifier()\n",
    "n_range = np.arange(100,1001,100)\n",
    "scores = []\n",
    "for n in n_range:\n",
    "    knn.n_neighbors = n\n",
    "    knn.fit(data_reduced,target_train)\n",
    "    pred = knn.predict(test_reduced)\n",
    "    scores.append(metrics.accuracy_score(target_test,pred))"
   ]
  },
  {
   "cell_type": "code",
   "execution_count": 62,
   "metadata": {},
   "outputs": [
    {
     "data": {
      "image/png": "[encoded data removed]",
      "text/plain": [
       "<Figure size 432x288 with 1 Axes>"
      ]
     },
     "metadata": {
      "needs_background": "light"
     },
     "output_type": "display_data"
    }
   ],
   "source": [
    "sns.pointplot(x = n_range, y = scores);"
   ]
  },
  {
   "cell_type": "markdown",
   "metadata": {},
   "source": [
    "as we can see after the pca it is also the best with only 100 neighbors"
   ]
  },
  {
   "cell_type": "code",
   "execution_count": 63,
   "metadata": {},
   "outputs": [],
   "source": [
    "knn_after = KNeighborsClassifier(n_neighbors = 100)\n",
    "gnb_clf = GaussianNB()\n",
    "LoR_clf = LogisticRegression(random_state=0)\n",
    "RF_clf = RandomForestClassifier(n_estimators=150, random_state=1)\n",
    "dtclf = DecisionTreeClassifier(random_state=0, max_depth = 3)\n",
    "soft_voter = VotingClassifier(estimators = [('knn_after',knn_after),('lr',LoR_clf),('decision_tree',dtclf),('gaussian_bayes',gnb_clf),('random_forsts',RF_clf)],n_jobs = -1,voting='soft')\n",
    "hard_voter = VotingClassifier(estimators = [('knn_after',knn_after),('lr',LoR_clf),('decision_tree',dtclf),('gaussian_bayes',gnb_clf),('random_forsts',RF_clf)],n_jobs = -1,voting='hard')"
   ]
  },
  {
   "cell_type": "code",
   "execution_count": 64,
   "metadata": {},
   "outputs": [
    {
     "name": "stdout",
     "output_type": "stream",
     "text": [
      "KNeighborsClassifier score is: 0.835 , time to train: 4.27 seconds\n",
      "GaussianNB score is: 0.745 , time to train: 0.28 seconds\n",
      "LogisticRegression score is: 0.852 , time to train: 8.57 seconds\n",
      "RandomForestClassifier score is: 0.869 , time to train: 161.49 seconds\n",
      "DecisionTreeClassifier score is: 0.481 , time to train: 4.90 seconds\n",
      "VotingClassifier score is: 0.847 , time to train: 166.55 seconds\n",
      "VotingClassifier score is: 0.859 , time to train: 164.07 seconds\n"
     ]
    }
   ],
   "source": [
    "for clf in (knn_after,gnb_clf,LoR_clf,RF_clf,dtclf,soft_voter,hard_voter):\n",
    "    start_time = time.time()\n",
    "    clf.fit(data_reduced,target_train)\n",
    "    time_to_train = time.time()- start_time\n",
    "    pred = clf.predict(test_reduced)\n",
    "    score = metrics.accuracy_score(target_test,pred)\n",
    "    after_pca_scores.append(score)\n",
    "    time_after_pca.append(time_to_train)\n",
    "    print(clf.__class__.__name__ + \" score is: %.3f \" %(score) + \", time to train: %.2f seconds\" %(time_to_train))"
   ]
  },
  {
   "cell_type": "markdown",
   "metadata": {},
   "source": [
    "Now lets the take to Logistic regression again as it is the one with the highest accuracy and use bagging on him"
   ]
  },
  {
   "cell_type": "code",
   "execution_count": 67,
   "metadata": {},
   "outputs": [],
   "source": [
    "n_range = np.arange(10,51,10)\n",
    "bag_scores = []\n",
    "for n in n_range:\n",
    "    Bagg_clf = BaggingClassifier(base_estimator= LoR_clf, n_estimators= n)\n",
    "    Bagg_clf.fit(data_reduced, target_train)\n",
    "    pred = Bagg_clf.predict(test_reduced)\n",
    "    bag_scores.append(metrics.accuracy_score(target_test,pred))"
   ]
  },
  {
   "cell_type": "code",
   "execution_count": 68,
   "metadata": {},
   "outputs": [
    {
     "data": {
      "text/plain": [
       "<AxesSubplot:>"
      ]
     },
     "execution_count": 68,
     "metadata": {},
     "output_type": "execute_result"
    },
    {
     "data": {
      "image/png": "[encoded data removed]",
      "text/plain": [
       "<Figure size 432x288 with 1 Axes>"
      ]
     },
     "metadata": {
      "needs_background": "light"
     },
     "output_type": "display_data"
    }
   ],
   "source": [
    "sns.pointplot(x = n_range, y = bag_scores)"
   ]
  },
  {
   "cell_type": "markdown",
   "metadata": {},
   "source": [
    "as we can see we need 40 classifiers for the highest score"
   ]
  },
  {
   "cell_type": "code",
   "execution_count": 70,
   "metadata": {},
   "outputs": [
    {
     "name": "stdout",
     "output_type": "stream",
     "text": [
      "BaggingClassifier score is: 0.851 , time to train: 324.78 seconds\n"
     ]
    }
   ],
   "source": [
    "start_time = time.time()\n",
    "Bagg_clf_after = BaggingClassifier(base_estimator= LoR_clf, n_estimators= 40)\n",
    "Bagg_clf_after.fit(data_reduced, target_train)\n",
    "time_to_train = time.time() - start_time\n",
    "pred = Bagg_clf_after.predict(test_reduced)\n",
    "score = (metrics.accuracy_score(target_test,pred))\n",
    "after_pca_scores.append(score)\n",
    "time_after_pca.append(time_to_train)\n",
    "print(Bagg_clf_after.__class__.__name__ + \" score is: %.3f \" %(score) + \", time to train: %.2f seconds\" %(time_to_train))"
   ]
  },
  {
   "cell_type": "markdown",
   "metadata": {},
   "source": [
    "Next lets move on to Boosting, and at first, adaBoost"
   ]
  },
  {
   "cell_type": "code",
   "execution_count": 74,
   "metadata": {},
   "outputs": [
    {
     "name": "stdout",
     "output_type": "stream",
     "text": [
      "AdaBoostClassifier score is: 0.552 , time to train: 360.04 seconds\n"
     ]
    }
   ],
   "source": [
    "start_time = time.time()\n",
    "adaBoost_after = AdaBoostClassifier(n_estimators = 200, learning_rate = 0.5)\n",
    "adaBoost_after.fit(data_reduced,target_train)\n",
    "time_to_train = time.time()- start_time\n",
    "pred = adaBoost_after.predict(test_reduced)\n",
    "score = metrics.accuracy_score(target_test,pred)\n",
    "name = adaBoost_after.__class__.__name__\n",
    "print(name + \" score is: %.3f \" %(score) + \", time to train: %.2f seconds\" %(time_to_train))"
   ]
  },
  {
   "cell_type": "markdown",
   "metadata": {},
   "source": [
    "as we can see, we got better results, and with less training time then the previous adaBoost classifier, now lets move on to gradient boosting"
   ]
  },
  {
   "cell_type": "code",
   "execution_count": 77,
   "metadata": {},
   "outputs": [
    {
     "name": "stdout",
     "output_type": "stream",
     "text": [
      "GradientBoostingClassifier score is: 0.856 , time to train: 8811.64 seconds\n"
     ]
    }
   ],
   "source": [
    "start_time = time.time()\n",
    "gBoost_after = GradientBoostingClassifier(n_estimators = 200, learning_rate = 0.5, max_depth = 3)\n",
    "gBoost_after.fit(data_reduced,target_train)\n",
    "time_to_train = time.time()- start_time\n",
    "pred = gBoost_after.predict(test_reduced)\n",
    "score = metrics.accuracy_score(target_test,pred)\n",
    "name = gBoost_after.__class__.__name__\n",
    "print(name + \" score is: %.3f \" %(score) + \", time to train: %.2f seconds\" %(time_to_train))"
   ]
  },
  {
   "cell_type": "markdown",
   "metadata": {},
   "source": [
    "After several tries, I got pretty good accuracy from Gradient boosting but it took very long to train, now lets try XGBoost"
   ]
  },
  {
   "cell_type": "code",
   "execution_count": 142,
   "metadata": {},
   "outputs": [
    {
     "name": "stdout",
     "output_type": "stream",
     "text": [
      "0.89\n",
      "time to calculate 689.00\n"
     ]
    }
   ],
   "source": [
    "start_time = time.time()\n",
    "xgb_after = xgboost.XGBClassifier(n_estimators = 150,eval_metric = \"merror\",learning_rate = 0.25)\n",
    "xgb_after.fit(data_reduced, target_train)\n",
    "pred = xgb_after.predict(test_reduced)\n",
    "print(metrics.accuracy_score(target_test,pred))\n",
    "print(\"time to calculate %.2f\" %(time.time()-start_time))"
   ]
  },
  {
   "cell_type": "markdown",
   "metadata": {},
   "source": [
    "after running all the models nad ensemble methods, lets some it up in a graph and get to our conclusion"
   ]
  },
  {
   "cell_type": "code",
   "execution_count": 103,
   "metadata": {},
   "outputs": [],
   "source": [
    "i = 0\n",
    "#scale to minutes and full precenteges\n",
    "for i in range(11):\n",
    "    time_before_pca[i] = time_before_pca[i]/60\n",
    "    time_after_pca[i] = time_after_pca[i]/60\n",
    "    after_pca_scores[i] = after_pca_scores[i]*100\n",
    "    before_pca_scores[i] = before_pca_scores[i]*100"
   ]
  },
  {
   "cell_type": "code",
   "execution_count": 122,
   "metadata": {},
   "outputs": [
    {
     "data": {
      "text/plain": [
       "<matplotlib.legend.Legend at 0x2427165d070>"
      ]
     },
     "execution_count": 122,
     "metadata": {},
     "output_type": "execute_result"
    },
    {
     "data": {
      "image/png": "[encoded data removed]",
      "text/plain": [
       "<Figure size 1080x1080 with 1 Axes>"
      ]
     },
     "metadata": {
      "needs_background": "light"
     },
     "output_type": "display_data"
    }
   ],
   "source": [
    "fig, ax = plt.subplots(figsize = (15,15))\n",
    "ax.scatter(time_before_pca, before_pca_scores, c='green', label = \"before pca\")\n",
    "for i, txt in enumerate(model_names):\n",
    "    ax.annotate(txt, (time_before_pca[i], before_pca_scores[i]))\n",
    "    \n",
    "ax.scatter(time_after_pca, after_pca_scores,c='blue', label = \"after pca\")\n",
    "\n",
    "for i, txt in enumerate(model_names):\n",
    "    ax.annotate(txt, (time_after_pca[i], after_pca_scores[i]))\n",
    "    \n",
    "plt.ylabel(\"accuracy\")\n",
    "plt.xlabel(\"time to calculate(in minutes)\")\n",
    "plt.title(\"accuracy according to time took to calculate\");\n",
    "plt.legend()"
   ]
  },
  {
   "cell_type": "markdown",
   "metadata": {},
   "source": [
    "From what we can see, our top model was the XGboost classifier from before we used the pca, and the second after is the same one after the pca, and the last step is to check the accuracy on the test files"
   ]
  },
  {
   "cell_type": "code",
   "execution_count": 123,
   "metadata": {},
   "outputs": [],
   "source": [
    "test_df = pd.read_csv(\"D:\\\\ML_SEM2\\\\fashion-mnist_test.csv\")"
   ]
  },
  {
   "cell_type": "code",
   "execution_count": 124,
   "metadata": {},
   "outputs": [
    {
     "data": {
      "text/html": [
       "<div>\n",
       "<style scoped>\n",
       "    .dataframe tbody tr th:only-of-type {\n",
       "        vertical-align: middle;\n",
       "    }\n",
       "\n",
       "    .dataframe tbody tr th {\n",
       "        vertical-align: top;\n",
       "    }\n",
       "\n",
       "    .dataframe thead th {\n",
       "        text-align: right;\n",
       "    }\n",
       "</style>\n",
       "<table border=\"1\" class=\"dataframe\">\n",
       "  <thead>\n",
       "    <tr style=\"text-align: right;\">\n",
       "      <th></th>\n",
       "      <th>label</th>\n",
       "      <th>pixel1</th>\n",
       "      <th>pixel2</th>\n",
       "      <th>pixel3</th>\n",
       "      <th>pixel4</th>\n",
       "      <th>pixel5</th>\n",
       "      <th>pixel6</th>\n",
       "      <th>pixel7</th>\n",
       "      <th>pixel8</th>\n",
       "      <th>pixel9</th>\n",
       "      <th>...</th>\n",
       "      <th>pixel775</th>\n",
       "      <th>pixel776</th>\n",
       "      <th>pixel777</th>\n",
       "      <th>pixel778</th>\n",
       "      <th>pixel779</th>\n",
       "      <th>pixel780</th>\n",
       "      <th>pixel781</th>\n",
       "      <th>pixel782</th>\n",
       "      <th>pixel783</th>\n",
       "      <th>pixel784</th>\n",
       "    </tr>\n",
       "  </thead>\n",
       "  <tbody>\n",
       "    <tr>\n",
       "      <th>0</th>\n",
       "      <td>0</td>\n",
       "      <td>0</td>\n",
       "      <td>0</td>\n",
       "      <td>0</td>\n",
       "      <td>0</td>\n",
       "      <td>0</td>\n",
       "      <td>0</td>\n",
       "      <td>0</td>\n",
       "      <td>9</td>\n",
       "      <td>8</td>\n",
       "      <td>...</td>\n",
       "      <td>103</td>\n",
       "      <td>87</td>\n",
       "      <td>56</td>\n",
       "      <td>0</td>\n",
       "      <td>0</td>\n",
       "      <td>0</td>\n",
       "      <td>0</td>\n",
       "      <td>0</td>\n",
       "      <td>0</td>\n",
       "      <td>0</td>\n",
       "    </tr>\n",
       "    <tr>\n",
       "      <th>1</th>\n",
       "      <td>1</td>\n",
       "      <td>0</td>\n",
       "      <td>0</td>\n",
       "      <td>0</td>\n",
       "      <td>0</td>\n",
       "      <td>0</td>\n",
       "      <td>0</td>\n",
       "      <td>0</td>\n",
       "      <td>0</td>\n",
       "      <td>0</td>\n",
       "      <td>...</td>\n",
       "      <td>34</td>\n",
       "      <td>0</td>\n",
       "      <td>0</td>\n",
       "      <td>0</td>\n",
       "      <td>0</td>\n",
       "      <td>0</td>\n",
       "      <td>0</td>\n",
       "      <td>0</td>\n",
       "      <td>0</td>\n",
       "      <td>0</td>\n",
       "    </tr>\n",
       "    <tr>\n",
       "      <th>2</th>\n",
       "      <td>2</td>\n",
       "      <td>0</td>\n",
       "      <td>0</td>\n",
       "      <td>0</td>\n",
       "      <td>0</td>\n",
       "      <td>0</td>\n",
       "      <td>0</td>\n",
       "      <td>14</td>\n",
       "      <td>53</td>\n",
       "      <td>99</td>\n",
       "      <td>...</td>\n",
       "      <td>0</td>\n",
       "      <td>0</td>\n",
       "      <td>0</td>\n",
       "      <td>0</td>\n",
       "      <td>63</td>\n",
       "      <td>53</td>\n",
       "      <td>31</td>\n",
       "      <td>0</td>\n",
       "      <td>0</td>\n",
       "      <td>0</td>\n",
       "    </tr>\n",
       "    <tr>\n",
       "      <th>3</th>\n",
       "      <td>2</td>\n",
       "      <td>0</td>\n",
       "      <td>0</td>\n",
       "      <td>0</td>\n",
       "      <td>0</td>\n",
       "      <td>0</td>\n",
       "      <td>0</td>\n",
       "      <td>0</td>\n",
       "      <td>0</td>\n",
       "      <td>0</td>\n",
       "      <td>...</td>\n",
       "      <td>137</td>\n",
       "      <td>126</td>\n",
       "      <td>140</td>\n",
       "      <td>0</td>\n",
       "      <td>133</td>\n",
       "      <td>224</td>\n",
       "      <td>222</td>\n",
       "      <td>56</td>\n",
       "      <td>0</td>\n",
       "      <td>0</td>\n",
       "    </tr>\n",
       "    <tr>\n",
       "      <th>4</th>\n",
       "      <td>3</td>\n",
       "      <td>0</td>\n",
       "      <td>0</td>\n",
       "      <td>0</td>\n",
       "      <td>0</td>\n",
       "      <td>0</td>\n",
       "      <td>0</td>\n",
       "      <td>0</td>\n",
       "      <td>0</td>\n",
       "      <td>0</td>\n",
       "      <td>...</td>\n",
       "      <td>0</td>\n",
       "      <td>0</td>\n",
       "      <td>0</td>\n",
       "      <td>0</td>\n",
       "      <td>0</td>\n",
       "      <td>0</td>\n",
       "      <td>0</td>\n",
       "      <td>0</td>\n",
       "      <td>0</td>\n",
       "      <td>0</td>\n",
       "    </tr>\n",
       "  </tbody>\n",
       "</table>\n",
       "<p>5 rows × 785 columns</p>\n",
       "</div>"
      ],
      "text/plain": [
       "   label  pixel1  pixel2  pixel3  pixel4  pixel5  pixel6  pixel7  pixel8  \\\n",
       "0      0       0       0       0       0       0       0       0       9   \n",
       "1      1       0       0       0       0       0       0       0       0   \n",
       "2      2       0       0       0       0       0       0      14      53   \n",
       "3      2       0       0       0       0       0       0       0       0   \n",
       "4      3       0       0       0       0       0       0       0       0   \n",
       "\n",
       "   pixel9  ...  pixel775  pixel776  pixel777  pixel778  pixel779  pixel780  \\\n",
       "0       8  ...       103        87        56         0         0         0   \n",
       "1       0  ...        34         0         0         0         0         0   \n",
       "2      99  ...         0         0         0         0        63        53   \n",
       "3       0  ...       137       126       140         0       133       224   \n",
       "4       0  ...         0         0         0         0         0         0   \n",
       "\n",
       "   pixel781  pixel782  pixel783  pixel784  \n",
       "0         0         0         0         0  \n",
       "1         0         0         0         0  \n",
       "2        31         0         0         0  \n",
       "3       222        56         0         0  \n",
       "4         0         0         0         0  \n",
       "\n",
       "[5 rows x 785 columns]"
      ]
     },
     "execution_count": 124,
     "metadata": {},
     "output_type": "execute_result"
    }
   ],
   "source": []
  },
  {
   "cell_type": "code",
   "execution_count": 126,
   "metadata": {},
   "outputs": [],
   "source": [
    "test_labels = test_df.label.values\n",
    "test_data = test_df.drop(['label'],axis = 1).values"
   ]
  },
  {
   "cell_type": "code",
   "execution_count": 139,
   "metadata": {},
   "outputs": [],
   "source": [
    "test_data_reduced = pca.transform(test_data)"
   ]
  },
  {
   "cell_type": "code",
   "execution_count": 143,
   "metadata": {},
   "outputs": [
    {
     "name": "stdout",
     "output_type": "stream",
     "text": [
      "the final score for xgb after pca is 88.64\n"
     ]
    }
   ],
   "source": [
    "pred = xgb_after.predict(test_data_reduced)\n",
    "print(\"the final score for xgb after pca is \" + str(metrics.accuracy_score(test_labels,pred)*100))"
   ]
  },
  {
   "cell_type": "code",
   "execution_count": 144,
   "metadata": {},
   "outputs": [
    {
     "name": "stdout",
     "output_type": "stream",
     "text": [
      "the final score for xgb after pca is 90.82000000000001\n"
     ]
    }
   ],
   "source": [
    "pred = xgb_before.predict(test_data)\n",
    "print(\"the final score for xgb after pca is \" + str(metrics.accuracy_score(test_labels,pred)*100))"
   ]
  },
  {
   "cell_type": "markdown",
   "metadata": {},
   "source": [
    "# Conclusion <a id='conclusion'></a>\n",
    "\n",
    "As we can see, our final and best score was 90.8% with the XGBoost classifier from before using PCa\n",
    "\n",
    "In this notebook, the data itself was already pretty clean, there wasnt much preprocessing needed. After I got the data I wanted to know how it looks like before and after the reduction of dimensions. \n",
    "\n",
    "I also wanted to see how each ensemble method prefomred in this task."
   ]
  }
 ],
 "metadata": {
  "kernelspec": {
   "display_name": "Python 3",
   "language": "python",
   "name": "python3"
  },
  "language_info": {
   "codemirror_mode": {
    "name": "ipython",
    "version": 3
   },
   "file_extension": ".py",
   "mimetype": "text/x-python",
   "name": "python",
   "nbconvert_exporter": "python",
   "pygments_lexer": "ipython3",
   "version": "3.8.5"
  }
 },
 "nbformat": 4,
 "nbformat_minor": 4
}
